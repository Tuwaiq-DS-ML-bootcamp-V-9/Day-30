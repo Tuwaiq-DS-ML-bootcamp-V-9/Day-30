{
 "cells": [
  {
   "cell_type": "markdown",
   "id": "worst-sally",
   "metadata": {},
   "source": [
    "### Web scrapping for [Sayarh Website](https://syarah.com)"
   ]
  },
  {
   "cell_type": "code",
   "execution_count": 23,
   "id": "complimentary-harvard",
   "metadata": {},
   "outputs": [],
   "source": [
    "import requests\n",
    "from bs4 import BeautifulSoup\n",
    "from selenium import webdriver  \n",
    "import pandas as pd"
   ]
  },
  {
   "cell_type": "markdown",
   "id": "338604af-c89b-4c3f-92f2-85dec04c0f78",
   "metadata": {},
   "source": [
    "#### Use only BeautifulSoup"
   ]
  },
  {
   "cell_type": "code",
   "execution_count": 24,
   "id": "yellow-matter",
   "metadata": {},
   "outputs": [
    {
     "name": "stdout",
     "output_type": "stream",
     "text": [
      "200\n"
     ]
    }
   ],
   "source": [
    "url = 'https://syarah.com/filters?condition_id=0'\n",
    "page = requests.get(url)\n",
    "print(page.status_code)"
   ]
  },
  {
   "cell_type": "code",
   "execution_count": 25,
   "id": "b30421a2-2400-454c-bf79-759f878c07ac",
   "metadata": {},
   "outputs": [
    {
     "name": "stdout",
     "output_type": "stream",
     "text": [
      "<class 'str'>\n"
     ]
    }
   ],
   "source": [
    "print(type(page.text))\n",
    "#print(page.text)"
   ]
  },
  {
   "cell_type": "code",
   "execution_count": 26,
   "id": "d12f7158-d37d-4c17-8a32-ef0148eed24a",
   "metadata": {},
   "outputs": [
    {
     "name": "stdout",
     "output_type": "stream",
     "text": [
      "<class 'bs4.BeautifulSoup'>\n"
     ]
    }
   ],
   "source": [
    "soup = BeautifulSoup(page.content, 'html.parser')\n",
    "print(type(soup))\n",
    "#soup"
   ]
  },
  {
   "cell_type": "code",
   "execution_count": 27,
   "id": "1019975e-61d6-4959-bb43-0c15ca0ecede",
   "metadata": {},
   "outputs": [],
   "source": [
    "#soup"
   ]
  },
  {
   "cell_type": "code",
   "execution_count": 28,
   "id": "7e8cfded-9678-44f7-bed2-67746b5d069b",
   "metadata": {},
   "outputs": [
    {
     "data": {
      "text/plain": [
       "'سيارات مستعملة للبيع في السعودية - سيارات جديدة: أفضل سعر | موقع سيارة '"
      ]
     },
     "execution_count": 28,
     "metadata": {},
     "output_type": "execute_result"
    }
   ],
   "source": [
    "page_title = soup.title.text # gets you the text of the <title>(...)</title>\n",
    "page_title"
   ]
  },
  {
   "cell_type": "code",
   "execution_count": 29,
   "id": "e05a9913-69f2-4ca1-ae3f-c8d8251986f9",
   "metadata": {},
   "outputs": [],
   "source": [
    "# Extract body of page\n",
    "page_body = soup.body\n",
    "#page_body "
   ]
  },
  {
   "cell_type": "code",
   "execution_count": 30,
   "id": "dc290c64-f0c4-4359-88af-3986b8247718",
   "metadata": {},
   "outputs": [],
   "source": [
    "# <div class=\"CardBody-module__CardBody\">\n",
    "# <div class=\"CardBody-module__guaranteedLabel\">\n",
    "# <img src=\"https://cdn-frontend-r2.syarah.com/prod/assets/images/garnteed.svg\" width=\"10\" height=\"10\" alt=\"garnteed\" aria-label=\"garnteed\">\n",
    "# <strong>مفحوصة ومضمونة</strong>\n",
    "# </div>\n",
    "# <h2 class=\"CardBody-module__title interActiveGray\">ميتسوبيشي L200 DC 4x2 2020 </h2>\n",
    "# <div class=\"CardBody-module__finance\"><div class=\"CardBody-module__monthlyPrice\"><strong class=\"interActiveBlue\">1,217</strong><span class=\"interActiveBlue\">ريال / شهرياً</span></div><div class=\"CardBody-module__totalPrice\"><span class=\"CardBody-module__vatIncluded interActiveGray\">شامل الضريبة</span><div class=\"CardBody-module__sellingPrice\"><strong class=\"interActiveGreen\">57,000</strong><span class=\"interActiveGreen\">ريال</span></div></div></div></div>"
   ]
  },
  {
   "cell_type": "code",
   "execution_count": 31,
   "id": "3be1c7dc-27c0-4f8a-a7d9-734295e018ca",
   "metadata": {},
   "outputs": [
    {
     "data": {
      "text/plain": [
       "[]"
      ]
     },
     "execution_count": 31,
     "metadata": {},
     "output_type": "execute_result"
    }
   ],
   "source": [
    "# extract car names\n",
    "divs = soup.find_all('h2', {'class':\"CardBody-module__title interActiveGray\"})\n",
    "divs"
   ]
  },
  {
   "cell_type": "markdown",
   "id": "c2880a8e-5578-463a-89f9-6134f1c1022e",
   "metadata": {},
   "source": [
    "#### Try selenium"
   ]
  },
  {
   "cell_type": "code",
   "execution_count": 35,
   "id": "7ac040e6-bc27-44f3-ba01-ee4e0c63bdc9",
   "metadata": {},
   "outputs": [],
   "source": [
    "driver = webdriver.Chrome()\n",
    "# request the page \n",
    "driver.get(url)\n",
    "\n",
    "        # extract the body and parse it\n",
    "soup = BeautifulSoup(driver.page_source, \"html.parser\")\n",
    "driver.quit()"
   ]
  },
  {
   "cell_type": "code",
   "execution_count": 36,
   "id": "a7f5ca71-250f-4f09-8380-26420303cafb",
   "metadata": {},
   "outputs": [
    {
     "data": {
      "text/plain": [
       "[<h2 class=\"CardBody-module__title interActiveGray\">هافال تانك 300  2023 دبل</h2>,\n",
       " <h2 class=\"CardBody-module__title interActiveGray\">هافال جوليان اكتيف 2022 </h2>,\n",
       " <h2 class=\"CardBody-module__title interActiveGray\">هافال جوليان اكتيف 2022 </h2>,\n",
       " <h2 class=\"CardBody-module__title interActiveGray\">هافال دارجو Adventure 2023 دبل</h2>,\n",
       " <h2 class=\"CardBody-module__title interActiveGray\">هافال جوليان اكتيف بلس 2024 </h2>,\n",
       " <h2 class=\"CardBody-module__title interActiveGray\">ام جي 5 LUX 2022 </h2>,\n",
       " <h2 class=\"CardBody-module__title interActiveGray\">ام جي 5 STD 2021 </h2>,\n",
       " <h2 class=\"CardBody-module__title interActiveGray\">ام جي 5 LUX 2022 </h2>,\n",
       " <h2 class=\"CardBody-module__title interActiveGray\">ام جي 5 COM 2022 </h2>,\n",
       " <h2 class=\"CardBody-module__title interActiveGray\">ام جي ZS STD 2023 </h2>,\n",
       " <h2 class=\"CardBody-module__title interActiveGray\">ام جي RX8 LUX 2020 </h2>,\n",
       " <h2 class=\"CardBody-module__title interActiveGray\">ام جي RX8 STD 2023 </h2>]"
      ]
     },
     "execution_count": 36,
     "metadata": {},
     "output_type": "execute_result"
    }
   ],
   "source": [
    "divs = soup.find_all('h2', {'class':\"CardBody-module__title interActiveGray\"})\n",
    "divs"
   ]
  },
  {
   "cell_type": "code",
   "execution_count": 34,
   "id": "6e8d94c1-0c0a-4d28-a89a-25f9f2e1c330",
   "metadata": {},
   "outputs": [
    {
     "ename": "NoSuchWindowException",
     "evalue": "Message: no such window: target window already closed\nfrom unknown error: web view not found\n  (Session info: chrome=122.0.6261.131)\nStacktrace:\n\tGetHandleVerifier [0x00007FF7BBEBAD02+56930]\n\t(No symbol) [0x00007FF7BBE2F602]\n\t(No symbol) [0x00007FF7BBCE42E5]\n\t(No symbol) [0x00007FF7BBCC1D4C]\n\t(No symbol) [0x00007FF7BBD523F7]\n\t(No symbol) [0x00007FF7BBD67891]\n\t(No symbol) [0x00007FF7BBD4BA43]\n\t(No symbol) [0x00007FF7BBD1D438]\n\t(No symbol) [0x00007FF7BBD1E4D1]\n\tGetHandleVerifier [0x00007FF7BC236F8D+3711213]\n\tGetHandleVerifier [0x00007FF7BC2904CD+4077101]\n\tGetHandleVerifier [0x00007FF7BC28865F+4044735]\n\tGetHandleVerifier [0x00007FF7BBF59736+706710]\n\t(No symbol) [0x00007FF7BBE3B8DF]\n\t(No symbol) [0x00007FF7BBE36AC4]\n\t(No symbol) [0x00007FF7BBE36C1C]\n\t(No symbol) [0x00007FF7BBE268D4]\n\tBaseThreadInitThunk [0x00007FFE232A7374+20]\n\tRtlUserThreadStart [0x00007FFE248DCC91+33]\n",
     "output_type": "error",
     "traceback": [
      "\u001b[1;31m---------------------------------------------------------------------------\u001b[0m",
      "\u001b[1;31mNoSuchWindowException\u001b[0m                     Traceback (most recent call last)",
      "Cell \u001b[1;32mIn[34], line 14\u001b[0m\n\u001b[0;32m     11\u001b[0m driver\u001b[38;5;241m.\u001b[39mget(url)\n\u001b[0;32m     13\u001b[0m \u001b[38;5;66;03m# extract the body and parse it\u001b[39;00m\n\u001b[1;32m---> 14\u001b[0m soup \u001b[38;5;241m=\u001b[39m BeautifulSoup(driver\u001b[38;5;241m.\u001b[39mpage_source, \u001b[38;5;124m\"\u001b[39m\u001b[38;5;124mhtml.parser\u001b[39m\u001b[38;5;124m\"\u001b[39m)\n\u001b[0;32m     16\u001b[0m \u001b[38;5;66;03m# extrace prices and ars names from page\u001b[39;00m\n\u001b[0;32m     17\u001b[0m prices \u001b[38;5;241m=\u001b[39m soup\u001b[38;5;241m.\u001b[39mfind_all(\u001b[38;5;124m'\u001b[39m\u001b[38;5;124mstrong\u001b[39m\u001b[38;5;124m'\u001b[39m, {\u001b[38;5;124m'\u001b[39m\u001b[38;5;124mclass\u001b[39m\u001b[38;5;124m'\u001b[39m:\u001b[38;5;124m\"\u001b[39m\u001b[38;5;124minterActiveGreen\u001b[39m\u001b[38;5;124m\"\u001b[39m})\n",
      "File \u001b[1;32mc:\\Users\\msala\\anaconda3\\Lib\\site-packages\\selenium\\webdriver\\remote\\webdriver.py:455\u001b[0m, in \u001b[0;36mWebDriver.page_source\u001b[1;34m(self)\u001b[0m\n\u001b[0;32m    446\u001b[0m \u001b[38;5;129m@property\u001b[39m\n\u001b[0;32m    447\u001b[0m \u001b[38;5;28;01mdef\u001b[39;00m \u001b[38;5;21mpage_source\u001b[39m(\u001b[38;5;28mself\u001b[39m) \u001b[38;5;241m-\u001b[39m\u001b[38;5;241m>\u001b[39m \u001b[38;5;28mstr\u001b[39m:\n\u001b[0;32m    448\u001b[0m \u001b[38;5;250m    \u001b[39m\u001b[38;5;124;03m\"\"\"Gets the source of the current page.\u001b[39;00m\n\u001b[0;32m    449\u001b[0m \n\u001b[0;32m    450\u001b[0m \u001b[38;5;124;03m    :Usage:\u001b[39;00m\n\u001b[1;32m   (...)\u001b[0m\n\u001b[0;32m    453\u001b[0m \u001b[38;5;124;03m            driver.page_source\u001b[39;00m\n\u001b[0;32m    454\u001b[0m \u001b[38;5;124;03m    \"\"\"\u001b[39;00m\n\u001b[1;32m--> 455\u001b[0m     \u001b[38;5;28;01mreturn\u001b[39;00m \u001b[38;5;28mself\u001b[39m\u001b[38;5;241m.\u001b[39mexecute(Command\u001b[38;5;241m.\u001b[39mGET_PAGE_SOURCE)[\u001b[38;5;124m\"\u001b[39m\u001b[38;5;124mvalue\u001b[39m\u001b[38;5;124m\"\u001b[39m]\n",
      "File \u001b[1;32mc:\\Users\\msala\\anaconda3\\Lib\\site-packages\\selenium\\webdriver\\remote\\webdriver.py:354\u001b[0m, in \u001b[0;36mWebDriver.execute\u001b[1;34m(self, driver_command, params)\u001b[0m\n\u001b[0;32m    352\u001b[0m response \u001b[38;5;241m=\u001b[39m \u001b[38;5;28mself\u001b[39m\u001b[38;5;241m.\u001b[39mcommand_executor\u001b[38;5;241m.\u001b[39mexecute(driver_command, params)\n\u001b[0;32m    353\u001b[0m \u001b[38;5;28;01mif\u001b[39;00m response:\n\u001b[1;32m--> 354\u001b[0m     \u001b[38;5;28mself\u001b[39m\u001b[38;5;241m.\u001b[39merror_handler\u001b[38;5;241m.\u001b[39mcheck_response(response)\n\u001b[0;32m    355\u001b[0m     response[\u001b[38;5;124m\"\u001b[39m\u001b[38;5;124mvalue\u001b[39m\u001b[38;5;124m\"\u001b[39m] \u001b[38;5;241m=\u001b[39m \u001b[38;5;28mself\u001b[39m\u001b[38;5;241m.\u001b[39m_unwrap_value(response\u001b[38;5;241m.\u001b[39mget(\u001b[38;5;124m\"\u001b[39m\u001b[38;5;124mvalue\u001b[39m\u001b[38;5;124m\"\u001b[39m, \u001b[38;5;28;01mNone\u001b[39;00m))\n\u001b[0;32m    356\u001b[0m     \u001b[38;5;28;01mreturn\u001b[39;00m response\n",
      "File \u001b[1;32mc:\\Users\\msala\\anaconda3\\Lib\\site-packages\\selenium\\webdriver\\remote\\errorhandler.py:229\u001b[0m, in \u001b[0;36mErrorHandler.check_response\u001b[1;34m(self, response)\u001b[0m\n\u001b[0;32m    227\u001b[0m         alert_text \u001b[38;5;241m=\u001b[39m value[\u001b[38;5;124m\"\u001b[39m\u001b[38;5;124malert\u001b[39m\u001b[38;5;124m\"\u001b[39m]\u001b[38;5;241m.\u001b[39mget(\u001b[38;5;124m\"\u001b[39m\u001b[38;5;124mtext\u001b[39m\u001b[38;5;124m\"\u001b[39m)\n\u001b[0;32m    228\u001b[0m     \u001b[38;5;28;01mraise\u001b[39;00m exception_class(message, screen, stacktrace, alert_text)  \u001b[38;5;66;03m# type: ignore[call-arg]  # mypy is not smart enough here\u001b[39;00m\n\u001b[1;32m--> 229\u001b[0m \u001b[38;5;28;01mraise\u001b[39;00m exception_class(message, screen, stacktrace)\n",
      "\u001b[1;31mNoSuchWindowException\u001b[0m: Message: no such window: target window already closed\nfrom unknown error: web view not found\n  (Session info: chrome=122.0.6261.131)\nStacktrace:\n\tGetHandleVerifier [0x00007FF7BBEBAD02+56930]\n\t(No symbol) [0x00007FF7BBE2F602]\n\t(No symbol) [0x00007FF7BBCE42E5]\n\t(No symbol) [0x00007FF7BBCC1D4C]\n\t(No symbol) [0x00007FF7BBD523F7]\n\t(No symbol) [0x00007FF7BBD67891]\n\t(No symbol) [0x00007FF7BBD4BA43]\n\t(No symbol) [0x00007FF7BBD1D438]\n\t(No symbol) [0x00007FF7BBD1E4D1]\n\tGetHandleVerifier [0x00007FF7BC236F8D+3711213]\n\tGetHandleVerifier [0x00007FF7BC2904CD+4077101]\n\tGetHandleVerifier [0x00007FF7BC28865F+4044735]\n\tGetHandleVerifier [0x00007FF7BBF59736+706710]\n\t(No symbol) [0x00007FF7BBE3B8DF]\n\t(No symbol) [0x00007FF7BBE36AC4]\n\t(No symbol) [0x00007FF7BBE36C1C]\n\t(No symbol) [0x00007FF7BBE268D4]\n\tBaseThreadInitThunk [0x00007FFE232A7374+20]\n\tRtlUserThreadStart [0x00007FFE248DCC91+33]\n"
     ]
    }
   ],
   "source": [
    "# try 10 pages\n",
    "\n",
    "driver = webdriver.Chrome()\n",
    "url = 'https://syarah.com/filters?condition_id=0'\n",
    "columns_ = ['Names', 'Prices']\n",
    "df = pd.DataFrame(columns=columns_)\n",
    "                  \n",
    "for i in range(2, 6):\n",
    "\n",
    "    # request the page \n",
    "    driver.get(url)\n",
    "\n",
    "    # extract the body and parse it\n",
    "    soup = BeautifulSoup(driver.page_source, \"html.parser\")\n",
    "\n",
    "    # extrace prices and ars names from page\n",
    "    prices = soup.find_all('strong', {'class':\"interActiveGreen\"})\n",
    "    names = soup.find_all('h2', {'class':\"CardBody-module__title interActiveGray\"})\n",
    "\n",
    "    # clean them\n",
    "    clean_prices = []\n",
    "    clean_names = []\n",
    "    for p, n, in zip(prices, names):\n",
    "        clean_prices.append(p.text)\n",
    "        clean_names.append(n.text)\n",
    "\n",
    "    # store them \n",
    "    new_rows_df = pd.DataFrame(\n",
    "        {\n",
    "            'Names': clean_names, \n",
    "            'Prices': clean_prices\n",
    "        })\n",
    "\n",
    "    df = pd.concat([df, new_rows_df], ignore_index=True)\n",
    "\n",
    "    # prepare new link\n",
    "    url = f\"https://syarah.com/filters?condition_id=0&page={i}\"\n",
    "driver.quit()"
   ]
  },
  {
   "cell_type": "code",
   "execution_count": null,
   "id": "44012f2f-d981-4de6-855a-ac3f91eb5faa",
   "metadata": {},
   "outputs": [
    {
     "data": {
      "text/html": [
       "<div>\n",
       "<style scoped>\n",
       "    .dataframe tbody tr th:only-of-type {\n",
       "        vertical-align: middle;\n",
       "    }\n",
       "\n",
       "    .dataframe tbody tr th {\n",
       "        vertical-align: top;\n",
       "    }\n",
       "\n",
       "    .dataframe thead th {\n",
       "        text-align: right;\n",
       "    }\n",
       "</style>\n",
       "<table border=\"1\" class=\"dataframe\">\n",
       "  <thead>\n",
       "    <tr style=\"text-align: right;\">\n",
       "      <th></th>\n",
       "      <th>Names</th>\n",
       "      <th>Prices</th>\n",
       "    </tr>\n",
       "  </thead>\n",
       "  <tbody>\n",
       "    <tr>\n",
       "      <th>0</th>\n",
       "      <td>اكسيد TXL Luxury 2023</td>\n",
       "      <td>90,300</td>\n",
       "    </tr>\n",
       "    <tr>\n",
       "      <th>1</th>\n",
       "      <td>جيتور داشينج لاكجري 2023</td>\n",
       "      <td>90,000</td>\n",
       "    </tr>\n",
       "    <tr>\n",
       "      <th>2</th>\n",
       "      <td>جيتور X70 لاكجري 2023</td>\n",
       "      <td>53,600</td>\n",
       "    </tr>\n",
       "    <tr>\n",
       "      <th>3</th>\n",
       "      <td>جيتور X70 لاكجري 2023</td>\n",
       "      <td>51,900</td>\n",
       "    </tr>\n",
       "    <tr>\n",
       "      <th>4</th>\n",
       "      <td>جيتور X70 لاكجري 2024</td>\n",
       "      <td>69,200</td>\n",
       "    </tr>\n",
       "    <tr>\n",
       "      <th>5</th>\n",
       "      <td>GAC GS3 GS 2023</td>\n",
       "      <td>46,000</td>\n",
       "    </tr>\n",
       "    <tr>\n",
       "      <th>6</th>\n",
       "      <td>GAC GS3 GS 2023</td>\n",
       "      <td>48,000</td>\n",
       "    </tr>\n",
       "    <tr>\n",
       "      <th>7</th>\n",
       "      <td>GAC GS3 GS 2023</td>\n",
       "      <td>48,000</td>\n",
       "    </tr>\n",
       "    <tr>\n",
       "      <th>8</th>\n",
       "      <td>GAC GS3 GS 2023</td>\n",
       "      <td>46,000</td>\n",
       "    </tr>\n",
       "    <tr>\n",
       "      <th>9</th>\n",
       "      <td>GAC GS3 GS 2023</td>\n",
       "      <td>46,000</td>\n",
       "    </tr>\n",
       "    <tr>\n",
       "      <th>10</th>\n",
       "      <td>GAC GS3 GS 2023</td>\n",
       "      <td>48,000</td>\n",
       "    </tr>\n",
       "    <tr>\n",
       "      <th>11</th>\n",
       "      <td>GAC GS3 GS 2023</td>\n",
       "      <td>46,000</td>\n",
       "    </tr>\n",
       "    <tr>\n",
       "      <th>12</th>\n",
       "      <td>اكسيد TXL Luxury 2023</td>\n",
       "      <td>90,300</td>\n",
       "    </tr>\n",
       "    <tr>\n",
       "      <th>13</th>\n",
       "      <td>جيتور داشينج لاكجري 2023</td>\n",
       "      <td>90,000</td>\n",
       "    </tr>\n",
       "    <tr>\n",
       "      <th>14</th>\n",
       "      <td>جيتور X70 لاكجري 2023</td>\n",
       "      <td>53,600</td>\n",
       "    </tr>\n",
       "    <tr>\n",
       "      <th>15</th>\n",
       "      <td>جيتور X70 لاكجري 2023</td>\n",
       "      <td>51,900</td>\n",
       "    </tr>\n",
       "    <tr>\n",
       "      <th>16</th>\n",
       "      <td>جيتور X70 لاكجري 2024</td>\n",
       "      <td>69,200</td>\n",
       "    </tr>\n",
       "    <tr>\n",
       "      <th>17</th>\n",
       "      <td>GAC GS3 GS 2023</td>\n",
       "      <td>46,000</td>\n",
       "    </tr>\n",
       "    <tr>\n",
       "      <th>18</th>\n",
       "      <td>GAC GS3 GS 2023</td>\n",
       "      <td>48,000</td>\n",
       "    </tr>\n",
       "    <tr>\n",
       "      <th>19</th>\n",
       "      <td>GAC GS3 GS 2023</td>\n",
       "      <td>48,000</td>\n",
       "    </tr>\n",
       "    <tr>\n",
       "      <th>20</th>\n",
       "      <td>GAC GS3 GS 2023</td>\n",
       "      <td>46,000</td>\n",
       "    </tr>\n",
       "    <tr>\n",
       "      <th>21</th>\n",
       "      <td>GAC GS3 GS 2023</td>\n",
       "      <td>46,000</td>\n",
       "    </tr>\n",
       "    <tr>\n",
       "      <th>22</th>\n",
       "      <td>GAC GS3 GS 2023</td>\n",
       "      <td>48,000</td>\n",
       "    </tr>\n",
       "    <tr>\n",
       "      <th>23</th>\n",
       "      <td>GAC GS3 GS 2023</td>\n",
       "      <td>46,000</td>\n",
       "    </tr>\n",
       "    <tr>\n",
       "      <th>24</th>\n",
       "      <td>اكسيد TXL Luxury 2023</td>\n",
       "      <td>90,300</td>\n",
       "    </tr>\n",
       "    <tr>\n",
       "      <th>25</th>\n",
       "      <td>جيتور داشينج لاكجري 2023</td>\n",
       "      <td>90,000</td>\n",
       "    </tr>\n",
       "    <tr>\n",
       "      <th>26</th>\n",
       "      <td>جيتور X70 لاكجري 2023</td>\n",
       "      <td>53,600</td>\n",
       "    </tr>\n",
       "    <tr>\n",
       "      <th>27</th>\n",
       "      <td>جيتور X70 لاكجري 2023</td>\n",
       "      <td>51,900</td>\n",
       "    </tr>\n",
       "    <tr>\n",
       "      <th>28</th>\n",
       "      <td>جيتور X70 لاكجري 2024</td>\n",
       "      <td>69,200</td>\n",
       "    </tr>\n",
       "    <tr>\n",
       "      <th>29</th>\n",
       "      <td>GAC GS3 GS 2023</td>\n",
       "      <td>46,000</td>\n",
       "    </tr>\n",
       "    <tr>\n",
       "      <th>30</th>\n",
       "      <td>GAC GS3 GS 2023</td>\n",
       "      <td>48,000</td>\n",
       "    </tr>\n",
       "    <tr>\n",
       "      <th>31</th>\n",
       "      <td>GAC GS3 GS 2023</td>\n",
       "      <td>48,000</td>\n",
       "    </tr>\n",
       "    <tr>\n",
       "      <th>32</th>\n",
       "      <td>GAC GS3 GS 2023</td>\n",
       "      <td>46,000</td>\n",
       "    </tr>\n",
       "    <tr>\n",
       "      <th>33</th>\n",
       "      <td>GAC GS3 GS 2023</td>\n",
       "      <td>46,000</td>\n",
       "    </tr>\n",
       "    <tr>\n",
       "      <th>34</th>\n",
       "      <td>GAC GS3 GS 2023</td>\n",
       "      <td>48,000</td>\n",
       "    </tr>\n",
       "    <tr>\n",
       "      <th>35</th>\n",
       "      <td>GAC GS3 GS 2023</td>\n",
       "      <td>46,000</td>\n",
       "    </tr>\n",
       "    <tr>\n",
       "      <th>36</th>\n",
       "      <td>اكسيد TXL Luxury 2023</td>\n",
       "      <td>90,300</td>\n",
       "    </tr>\n",
       "    <tr>\n",
       "      <th>37</th>\n",
       "      <td>جيتور داشينج لاكجري 2023</td>\n",
       "      <td>90,000</td>\n",
       "    </tr>\n",
       "    <tr>\n",
       "      <th>38</th>\n",
       "      <td>جيتور X70 لاكجري 2023</td>\n",
       "      <td>53,600</td>\n",
       "    </tr>\n",
       "    <tr>\n",
       "      <th>39</th>\n",
       "      <td>جيتور X70 لاكجري 2023</td>\n",
       "      <td>51,900</td>\n",
       "    </tr>\n",
       "    <tr>\n",
       "      <th>40</th>\n",
       "      <td>جيتور X70 لاكجري 2024</td>\n",
       "      <td>69,200</td>\n",
       "    </tr>\n",
       "    <tr>\n",
       "      <th>41</th>\n",
       "      <td>GAC GS3 GS 2023</td>\n",
       "      <td>46,000</td>\n",
       "    </tr>\n",
       "    <tr>\n",
       "      <th>42</th>\n",
       "      <td>GAC GS3 GS 2023</td>\n",
       "      <td>48,000</td>\n",
       "    </tr>\n",
       "    <tr>\n",
       "      <th>43</th>\n",
       "      <td>GAC GS3 GS 2023</td>\n",
       "      <td>48,000</td>\n",
       "    </tr>\n",
       "    <tr>\n",
       "      <th>44</th>\n",
       "      <td>GAC GS3 GS 2023</td>\n",
       "      <td>46,000</td>\n",
       "    </tr>\n",
       "    <tr>\n",
       "      <th>45</th>\n",
       "      <td>GAC GS3 GS 2023</td>\n",
       "      <td>46,000</td>\n",
       "    </tr>\n",
       "    <tr>\n",
       "      <th>46</th>\n",
       "      <td>GAC GS3 GS 2023</td>\n",
       "      <td>48,000</td>\n",
       "    </tr>\n",
       "    <tr>\n",
       "      <th>47</th>\n",
       "      <td>GAC GS3 GS 2023</td>\n",
       "      <td>46,000</td>\n",
       "    </tr>\n",
       "  </tbody>\n",
       "</table>\n",
       "</div>"
      ],
      "text/plain": [
       "                        Names  Prices\n",
       "0      اكسيد TXL Luxury 2023   90,300\n",
       "1   جيتور داشينج لاكجري 2023   90,000\n",
       "2      جيتور X70 لاكجري 2023   53,600\n",
       "3      جيتور X70 لاكجري 2023   51,900\n",
       "4      جيتور X70 لاكجري 2024   69,200\n",
       "5            GAC GS3 GS 2023   46,000\n",
       "6            GAC GS3 GS 2023   48,000\n",
       "7            GAC GS3 GS 2023   48,000\n",
       "8            GAC GS3 GS 2023   46,000\n",
       "9            GAC GS3 GS 2023   46,000\n",
       "10           GAC GS3 GS 2023   48,000\n",
       "11           GAC GS3 GS 2023   46,000\n",
       "12     اكسيد TXL Luxury 2023   90,300\n",
       "13  جيتور داشينج لاكجري 2023   90,000\n",
       "14     جيتور X70 لاكجري 2023   53,600\n",
       "15     جيتور X70 لاكجري 2023   51,900\n",
       "16     جيتور X70 لاكجري 2024   69,200\n",
       "17           GAC GS3 GS 2023   46,000\n",
       "18           GAC GS3 GS 2023   48,000\n",
       "19           GAC GS3 GS 2023   48,000\n",
       "20           GAC GS3 GS 2023   46,000\n",
       "21           GAC GS3 GS 2023   46,000\n",
       "22           GAC GS3 GS 2023   48,000\n",
       "23           GAC GS3 GS 2023   46,000\n",
       "24     اكسيد TXL Luxury 2023   90,300\n",
       "25  جيتور داشينج لاكجري 2023   90,000\n",
       "26     جيتور X70 لاكجري 2023   53,600\n",
       "27     جيتور X70 لاكجري 2023   51,900\n",
       "28     جيتور X70 لاكجري 2024   69,200\n",
       "29           GAC GS3 GS 2023   46,000\n",
       "30           GAC GS3 GS 2023   48,000\n",
       "31           GAC GS3 GS 2023   48,000\n",
       "32           GAC GS3 GS 2023   46,000\n",
       "33           GAC GS3 GS 2023   46,000\n",
       "34           GAC GS3 GS 2023   48,000\n",
       "35           GAC GS3 GS 2023   46,000\n",
       "36     اكسيد TXL Luxury 2023   90,300\n",
       "37  جيتور داشينج لاكجري 2023   90,000\n",
       "38     جيتور X70 لاكجري 2023   53,600\n",
       "39     جيتور X70 لاكجري 2023   51,900\n",
       "40     جيتور X70 لاكجري 2024   69,200\n",
       "41           GAC GS3 GS 2023   46,000\n",
       "42           GAC GS3 GS 2023   48,000\n",
       "43           GAC GS3 GS 2023   48,000\n",
       "44           GAC GS3 GS 2023   46,000\n",
       "45           GAC GS3 GS 2023   46,000\n",
       "46           GAC GS3 GS 2023   48,000\n",
       "47           GAC GS3 GS 2023   46,000"
      ]
     },
     "execution_count": 22,
     "metadata": {},
     "output_type": "execute_result"
    }
   ],
   "source": [
    "df"
   ]
  }
 ],
 "metadata": {
  "kernelspec": {
   "display_name": "base",
   "language": "python",
   "name": "python3"
  },
  "language_info": {
   "codemirror_mode": {
    "name": "ipython",
    "version": 3
   },
   "file_extension": ".py",
   "mimetype": "text/x-python",
   "name": "python",
   "nbconvert_exporter": "python",
   "pygments_lexer": "ipython3",
   "version": "3.11.5"
  }
 },
 "nbformat": 4,
 "nbformat_minor": 5
}
