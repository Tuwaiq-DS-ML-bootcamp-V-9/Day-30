{
 "cells": [
  {
   "cell_type": "markdown",
   "id": "worst-sally",
   "metadata": {},
   "source": [
    "### Web scrapping for [Sayarh Website](https://syarah.com)"
   ]
  },
  {
   "cell_type": "code",
   "execution_count": 9,
   "id": "complimentary-harvard",
   "metadata": {},
   "outputs": [],
   "source": [
    "import requests\n",
    "from bs4 import BeautifulSoup\n",
    "from selenium import webdriver  \n",
    "import pandas as pd"
   ]
  },
  {
   "cell_type": "markdown",
   "id": "338604af-c89b-4c3f-92f2-85dec04c0f78",
   "metadata": {},
   "source": [
    "#### Use only BeautifulSoup"
   ]
  },
  {
   "cell_type": "code",
   "execution_count": 10,
   "id": "yellow-matter",
   "metadata": {},
   "outputs": [
    {
     "name": "stdout",
     "output_type": "stream",
     "text": [
      "200\n"
     ]
    }
   ],
   "source": [
    "url = 'https://syarah.com/filters?condition_id=0'\n",
    "page = requests.get(url)\n",
    "print(page.status_code)"
   ]
  },
  {
   "cell_type": "code",
   "execution_count": 11,
   "id": "b30421a2-2400-454c-bf79-759f878c07ac",
   "metadata": {},
   "outputs": [
    {
     "name": "stdout",
     "output_type": "stream",
     "text": [
      "<class 'str'>\n"
     ]
    }
   ],
   "source": [
    "print(type(page.text))\n",
    "#print(page.text)"
   ]
  },
  {
   "cell_type": "code",
   "execution_count": 12,
   "id": "d12f7158-d37d-4c17-8a32-ef0148eed24a",
   "metadata": {},
   "outputs": [
    {
     "name": "stdout",
     "output_type": "stream",
     "text": [
      "<class 'bs4.BeautifulSoup'>\n"
     ]
    }
   ],
   "source": [
    "soup = BeautifulSoup(page.content, 'html.parser')\n",
    "print(type(soup))\n",
    "#soup"
   ]
  },
  {
   "cell_type": "code",
   "execution_count": 13,
   "id": "1019975e-61d6-4959-bb43-0c15ca0ecede",
   "metadata": {},
   "outputs": [],
   "source": [
    "#soup"
   ]
  },
  {
   "cell_type": "code",
   "execution_count": 14,
   "id": "7e8cfded-9678-44f7-bed2-67746b5d069b",
   "metadata": {},
   "outputs": [
    {
     "data": {
      "text/plain": [
       "'سيارات مستعملة للبيع في السعودية - سيارات جديدة: أفضل سعر | موقع سيارة '"
      ]
     },
     "execution_count": 14,
     "metadata": {},
     "output_type": "execute_result"
    }
   ],
   "source": [
    "page_title = soup.title.text # gets you the text of the <title>(...)</title>\n",
    "page_title"
   ]
  },
  {
   "cell_type": "code",
   "execution_count": 15,
   "id": "e05a9913-69f2-4ca1-ae3f-c8d8251986f9",
   "metadata": {},
   "outputs": [],
   "source": [
    "# Extract body of page\n",
    "page_body = soup.body\n",
    "#page_body "
   ]
  },
  {
   "cell_type": "code",
   "execution_count": 16,
   "id": "dc290c64-f0c4-4359-88af-3986b8247718",
   "metadata": {},
   "outputs": [],
   "source": [
    "# <div class=\"CardBody-module__CardBody\">\n",
    "# <div class=\"CardBody-module__guaranteedLabel\">\n",
    "# <img src=\"https://cdn-frontend-r2.syarah.com/prod/assets/images/garnteed.svg\" width=\"10\" height=\"10\" alt=\"garnteed\" aria-label=\"garnteed\">\n",
    "# <strong>مفحوصة ومضمونة</strong>\n",
    "# </div>\n",
    "# <h2 class=\"CardBody-module__title interActiveGray\">ميتسوبيشي L200 DC 4x2 2020 </h2>\n",
    "# <div class=\"CardBody-module__finance\"><div class=\"CardBody-module__monthlyPrice\"><strong class=\"interActiveBlue\">1,217</strong><span class=\"interActiveBlue\">ريال / شهرياً</span></div><div class=\"CardBody-module__totalPrice\"><span class=\"CardBody-module__vatIncluded interActiveGray\">شامل الضريبة</span><div class=\"CardBody-module__sellingPrice\"><strong class=\"interActiveGreen\">57,000</strong><span class=\"interActiveGreen\">ريال</span></div></div></div></div>"
   ]
  },
  {
   "cell_type": "code",
   "execution_count": 17,
   "id": "3be1c7dc-27c0-4f8a-a7d9-734295e018ca",
   "metadata": {},
   "outputs": [
    {
     "data": {
      "text/plain": [
       "[]"
      ]
     },
     "execution_count": 17,
     "metadata": {},
     "output_type": "execute_result"
    }
   ],
   "source": [
    "# extract car names\n",
    "divs = soup.find_all('h2', {'class':\"CardBody-module__title interActiveGray\"})\n",
    "divs"
   ]
  },
  {
   "cell_type": "markdown",
   "id": "c2880a8e-5578-463a-89f9-6134f1c1022e",
   "metadata": {},
   "source": [
    "#### Try selenium"
   ]
  },
  {
   "cell_type": "code",
   "execution_count": 18,
   "id": "7ac040e6-bc27-44f3-ba01-ee4e0c63bdc9",
   "metadata": {},
   "outputs": [],
   "source": [
    "driver = webdriver.Chrome()\n",
    "# request the page \n",
    "driver.get(url)\n",
    "\n",
    "        # extract the body and parse it\n",
    "soup = BeautifulSoup(driver.page_source, \"html.parser\")\n",
    "driver.quit()"
   ]
  },
  {
   "cell_type": "code",
   "execution_count": 19,
   "id": "a7f5ca71-250f-4f09-8380-26420303cafb",
   "metadata": {},
   "outputs": [
    {
     "data": {
      "text/plain": [
       "[<h2 class=\"CardBody-module__title interActiveGray\">اكسيد TXL Luxury 2023 </h2>,\n",
       " <h2 class=\"CardBody-module__title interActiveGray\">جيتور داشينج لاكجري 2023 </h2>,\n",
       " <h2 class=\"CardBody-module__title interActiveGray\">جيتور X70 لاكجري 2023 </h2>,\n",
       " <h2 class=\"CardBody-module__title interActiveGray\">جيتور X70 لاكجري 2023 </h2>,\n",
       " <h2 class=\"CardBody-module__title interActiveGray\">جيتور X70 لاكجري 2024 </h2>,\n",
       " <h2 class=\"CardBody-module__title interActiveGray\">GAC GS3 GS 2023 </h2>,\n",
       " <h2 class=\"CardBody-module__title interActiveGray\">GAC GS3 GS 2023 </h2>,\n",
       " <h2 class=\"CardBody-module__title interActiveGray\">GAC GS3 GS 2023 </h2>,\n",
       " <h2 class=\"CardBody-module__title interActiveGray\">GAC GS3 GS 2023 </h2>,\n",
       " <h2 class=\"CardBody-module__title interActiveGray\">GAC GS3 GS 2023 </h2>,\n",
       " <h2 class=\"CardBody-module__title interActiveGray\">GAC GS3 GS 2023 </h2>,\n",
       " <h2 class=\"CardBody-module__title interActiveGray\">GAC GS3 GS 2023 </h2>]"
      ]
     },
     "execution_count": 19,
     "metadata": {},
     "output_type": "execute_result"
    }
   ],
   "source": [
    "divs = soup.find_all('h2', {'class':\"CardBody-module__title interActiveGray\"})\n",
    "divs"
   ]
  },
  {
   "cell_type": "code",
   "execution_count": 20,
   "id": "6e8d94c1-0c0a-4d28-a89a-25f9f2e1c330",
   "metadata": {},
   "outputs": [],
   "source": [
    "# try 10 pages\n",
    "\n",
    "driver = webdriver.Chrome()\n",
    "url = 'https://syarah.com/filters?condition_id=0'\n",
    "columns_ = ['Names', 'Prices']\n",
    "df = pd.DataFrame(columns=columns_)\n",
    "                  \n",
    "for i in range(2, 6):\n",
    "\n",
    "    # request the page \n",
    "    driver.get(url)\n",
    "\n",
    "    # extract the body and parse it\n",
    "    soup = BeautifulSoup(driver.page_source, \"html.parser\")\n",
    "\n",
    "    # extrace prices and ars names from page\n",
    "    prices = soup.find_all('strong', {'class':\"interActiveGreen\"})\n",
    "    names = soup.find_all('h2', {'class':\"CardBody-module__title interActiveGray\"})\n",
    "\n",
    "    # clean them\n",
    "    clean_prices = []\n",
    "    clean_names = []\n",
    "    for p, n, in zip(prices, names):\n",
    "        clean_prices.append(p.text)\n",
    "        clean_names.append(n.text)\n",
    "\n",
    "    # store them \n",
    "    new_rows_df = pd.DataFrame(\n",
    "        {\n",
    "            'Names': clean_names, \n",
    "            'Prices': clean_prices\n",
    "        })\n",
    "\n",
    "    df = pd.concat([df, new_rows_df], ignore_index=True)\n",
    "\n",
    "    # prepare new link\n",
    "    url = f\"https://syarah.com/filters?condition_id=0&page={i}\"\n",
    "driver.quit()"
   ]
  },
  {
   "cell_type": "code",
   "execution_count": 22,
   "id": "44012f2f-d981-4de6-855a-ac3f91eb5faa",
   "metadata": {},
   "outputs": [
    {
     "data": {
      "text/html": [
       "<div>\n",
       "<style scoped>\n",
       "    .dataframe tbody tr th:only-of-type {\n",
       "        vertical-align: middle;\n",
       "    }\n",
       "\n",
       "    .dataframe tbody tr th {\n",
       "        vertical-align: top;\n",
       "    }\n",
       "\n",
       "    .dataframe thead th {\n",
       "        text-align: right;\n",
       "    }\n",
       "</style>\n",
       "<table border=\"1\" class=\"dataframe\">\n",
       "  <thead>\n",
       "    <tr style=\"text-align: right;\">\n",
       "      <th></th>\n",
       "      <th>Names</th>\n",
       "      <th>Prices</th>\n",
       "    </tr>\n",
       "  </thead>\n",
       "  <tbody>\n",
       "    <tr>\n",
       "      <th>0</th>\n",
       "      <td>اكسيد TXL Luxury 2023</td>\n",
       "      <td>90,300</td>\n",
       "    </tr>\n",
       "    <tr>\n",
       "      <th>1</th>\n",
       "      <td>جيتور داشينج لاكجري 2023</td>\n",
       "      <td>90,000</td>\n",
       "    </tr>\n",
       "    <tr>\n",
       "      <th>2</th>\n",
       "      <td>جيتور X70 لاكجري 2023</td>\n",
       "      <td>53,600</td>\n",
       "    </tr>\n",
       "    <tr>\n",
       "      <th>3</th>\n",
       "      <td>جيتور X70 لاكجري 2023</td>\n",
       "      <td>51,900</td>\n",
       "    </tr>\n",
       "    <tr>\n",
       "      <th>4</th>\n",
       "      <td>جيتور X70 لاكجري 2024</td>\n",
       "      <td>69,200</td>\n",
       "    </tr>\n",
       "    <tr>\n",
       "      <th>5</th>\n",
       "      <td>GAC GS3 GS 2023</td>\n",
       "      <td>46,000</td>\n",
       "    </tr>\n",
       "    <tr>\n",
       "      <th>6</th>\n",
       "      <td>GAC GS3 GS 2023</td>\n",
       "      <td>48,000</td>\n",
       "    </tr>\n",
       "    <tr>\n",
       "      <th>7</th>\n",
       "      <td>GAC GS3 GS 2023</td>\n",
       "      <td>48,000</td>\n",
       "    </tr>\n",
       "    <tr>\n",
       "      <th>8</th>\n",
       "      <td>GAC GS3 GS 2023</td>\n",
       "      <td>46,000</td>\n",
       "    </tr>\n",
       "    <tr>\n",
       "      <th>9</th>\n",
       "      <td>GAC GS3 GS 2023</td>\n",
       "      <td>46,000</td>\n",
       "    </tr>\n",
       "    <tr>\n",
       "      <th>10</th>\n",
       "      <td>GAC GS3 GS 2023</td>\n",
       "      <td>48,000</td>\n",
       "    </tr>\n",
       "    <tr>\n",
       "      <th>11</th>\n",
       "      <td>GAC GS3 GS 2023</td>\n",
       "      <td>46,000</td>\n",
       "    </tr>\n",
       "    <tr>\n",
       "      <th>12</th>\n",
       "      <td>اكسيد TXL Luxury 2023</td>\n",
       "      <td>90,300</td>\n",
       "    </tr>\n",
       "    <tr>\n",
       "      <th>13</th>\n",
       "      <td>جيتور داشينج لاكجري 2023</td>\n",
       "      <td>90,000</td>\n",
       "    </tr>\n",
       "    <tr>\n",
       "      <th>14</th>\n",
       "      <td>جيتور X70 لاكجري 2023</td>\n",
       "      <td>53,600</td>\n",
       "    </tr>\n",
       "    <tr>\n",
       "      <th>15</th>\n",
       "      <td>جيتور X70 لاكجري 2023</td>\n",
       "      <td>51,900</td>\n",
       "    </tr>\n",
       "    <tr>\n",
       "      <th>16</th>\n",
       "      <td>جيتور X70 لاكجري 2024</td>\n",
       "      <td>69,200</td>\n",
       "    </tr>\n",
       "    <tr>\n",
       "      <th>17</th>\n",
       "      <td>GAC GS3 GS 2023</td>\n",
       "      <td>46,000</td>\n",
       "    </tr>\n",
       "    <tr>\n",
       "      <th>18</th>\n",
       "      <td>GAC GS3 GS 2023</td>\n",
       "      <td>48,000</td>\n",
       "    </tr>\n",
       "    <tr>\n",
       "      <th>19</th>\n",
       "      <td>GAC GS3 GS 2023</td>\n",
       "      <td>48,000</td>\n",
       "    </tr>\n",
       "    <tr>\n",
       "      <th>20</th>\n",
       "      <td>GAC GS3 GS 2023</td>\n",
       "      <td>46,000</td>\n",
       "    </tr>\n",
       "    <tr>\n",
       "      <th>21</th>\n",
       "      <td>GAC GS3 GS 2023</td>\n",
       "      <td>46,000</td>\n",
       "    </tr>\n",
       "    <tr>\n",
       "      <th>22</th>\n",
       "      <td>GAC GS3 GS 2023</td>\n",
       "      <td>48,000</td>\n",
       "    </tr>\n",
       "    <tr>\n",
       "      <th>23</th>\n",
       "      <td>GAC GS3 GS 2023</td>\n",
       "      <td>46,000</td>\n",
       "    </tr>\n",
       "    <tr>\n",
       "      <th>24</th>\n",
       "      <td>اكسيد TXL Luxury 2023</td>\n",
       "      <td>90,300</td>\n",
       "    </tr>\n",
       "    <tr>\n",
       "      <th>25</th>\n",
       "      <td>جيتور داشينج لاكجري 2023</td>\n",
       "      <td>90,000</td>\n",
       "    </tr>\n",
       "    <tr>\n",
       "      <th>26</th>\n",
       "      <td>جيتور X70 لاكجري 2023</td>\n",
       "      <td>53,600</td>\n",
       "    </tr>\n",
       "    <tr>\n",
       "      <th>27</th>\n",
       "      <td>جيتور X70 لاكجري 2023</td>\n",
       "      <td>51,900</td>\n",
       "    </tr>\n",
       "    <tr>\n",
       "      <th>28</th>\n",
       "      <td>جيتور X70 لاكجري 2024</td>\n",
       "      <td>69,200</td>\n",
       "    </tr>\n",
       "    <tr>\n",
       "      <th>29</th>\n",
       "      <td>GAC GS3 GS 2023</td>\n",
       "      <td>46,000</td>\n",
       "    </tr>\n",
       "    <tr>\n",
       "      <th>30</th>\n",
       "      <td>GAC GS3 GS 2023</td>\n",
       "      <td>48,000</td>\n",
       "    </tr>\n",
       "    <tr>\n",
       "      <th>31</th>\n",
       "      <td>GAC GS3 GS 2023</td>\n",
       "      <td>48,000</td>\n",
       "    </tr>\n",
       "    <tr>\n",
       "      <th>32</th>\n",
       "      <td>GAC GS3 GS 2023</td>\n",
       "      <td>46,000</td>\n",
       "    </tr>\n",
       "    <tr>\n",
       "      <th>33</th>\n",
       "      <td>GAC GS3 GS 2023</td>\n",
       "      <td>46,000</td>\n",
       "    </tr>\n",
       "    <tr>\n",
       "      <th>34</th>\n",
       "      <td>GAC GS3 GS 2023</td>\n",
       "      <td>48,000</td>\n",
       "    </tr>\n",
       "    <tr>\n",
       "      <th>35</th>\n",
       "      <td>GAC GS3 GS 2023</td>\n",
       "      <td>46,000</td>\n",
       "    </tr>\n",
       "    <tr>\n",
       "      <th>36</th>\n",
       "      <td>اكسيد TXL Luxury 2023</td>\n",
       "      <td>90,300</td>\n",
       "    </tr>\n",
       "    <tr>\n",
       "      <th>37</th>\n",
       "      <td>جيتور داشينج لاكجري 2023</td>\n",
       "      <td>90,000</td>\n",
       "    </tr>\n",
       "    <tr>\n",
       "      <th>38</th>\n",
       "      <td>جيتور X70 لاكجري 2023</td>\n",
       "      <td>53,600</td>\n",
       "    </tr>\n",
       "    <tr>\n",
       "      <th>39</th>\n",
       "      <td>جيتور X70 لاكجري 2023</td>\n",
       "      <td>51,900</td>\n",
       "    </tr>\n",
       "    <tr>\n",
       "      <th>40</th>\n",
       "      <td>جيتور X70 لاكجري 2024</td>\n",
       "      <td>69,200</td>\n",
       "    </tr>\n",
       "    <tr>\n",
       "      <th>41</th>\n",
       "      <td>GAC GS3 GS 2023</td>\n",
       "      <td>46,000</td>\n",
       "    </tr>\n",
       "    <tr>\n",
       "      <th>42</th>\n",
       "      <td>GAC GS3 GS 2023</td>\n",
       "      <td>48,000</td>\n",
       "    </tr>\n",
       "    <tr>\n",
       "      <th>43</th>\n",
       "      <td>GAC GS3 GS 2023</td>\n",
       "      <td>48,000</td>\n",
       "    </tr>\n",
       "    <tr>\n",
       "      <th>44</th>\n",
       "      <td>GAC GS3 GS 2023</td>\n",
       "      <td>46,000</td>\n",
       "    </tr>\n",
       "    <tr>\n",
       "      <th>45</th>\n",
       "      <td>GAC GS3 GS 2023</td>\n",
       "      <td>46,000</td>\n",
       "    </tr>\n",
       "    <tr>\n",
       "      <th>46</th>\n",
       "      <td>GAC GS3 GS 2023</td>\n",
       "      <td>48,000</td>\n",
       "    </tr>\n",
       "    <tr>\n",
       "      <th>47</th>\n",
       "      <td>GAC GS3 GS 2023</td>\n",
       "      <td>46,000</td>\n",
       "    </tr>\n",
       "  </tbody>\n",
       "</table>\n",
       "</div>"
      ],
      "text/plain": [
       "                        Names  Prices\n",
       "0      اكسيد TXL Luxury 2023   90,300\n",
       "1   جيتور داشينج لاكجري 2023   90,000\n",
       "2      جيتور X70 لاكجري 2023   53,600\n",
       "3      جيتور X70 لاكجري 2023   51,900\n",
       "4      جيتور X70 لاكجري 2024   69,200\n",
       "5            GAC GS3 GS 2023   46,000\n",
       "6            GAC GS3 GS 2023   48,000\n",
       "7            GAC GS3 GS 2023   48,000\n",
       "8            GAC GS3 GS 2023   46,000\n",
       "9            GAC GS3 GS 2023   46,000\n",
       "10           GAC GS3 GS 2023   48,000\n",
       "11           GAC GS3 GS 2023   46,000\n",
       "12     اكسيد TXL Luxury 2023   90,300\n",
       "13  جيتور داشينج لاكجري 2023   90,000\n",
       "14     جيتور X70 لاكجري 2023   53,600\n",
       "15     جيتور X70 لاكجري 2023   51,900\n",
       "16     جيتور X70 لاكجري 2024   69,200\n",
       "17           GAC GS3 GS 2023   46,000\n",
       "18           GAC GS3 GS 2023   48,000\n",
       "19           GAC GS3 GS 2023   48,000\n",
       "20           GAC GS3 GS 2023   46,000\n",
       "21           GAC GS3 GS 2023   46,000\n",
       "22           GAC GS3 GS 2023   48,000\n",
       "23           GAC GS3 GS 2023   46,000\n",
       "24     اكسيد TXL Luxury 2023   90,300\n",
       "25  جيتور داشينج لاكجري 2023   90,000\n",
       "26     جيتور X70 لاكجري 2023   53,600\n",
       "27     جيتور X70 لاكجري 2023   51,900\n",
       "28     جيتور X70 لاكجري 2024   69,200\n",
       "29           GAC GS3 GS 2023   46,000\n",
       "30           GAC GS3 GS 2023   48,000\n",
       "31           GAC GS3 GS 2023   48,000\n",
       "32           GAC GS3 GS 2023   46,000\n",
       "33           GAC GS3 GS 2023   46,000\n",
       "34           GAC GS3 GS 2023   48,000\n",
       "35           GAC GS3 GS 2023   46,000\n",
       "36     اكسيد TXL Luxury 2023   90,300\n",
       "37  جيتور داشينج لاكجري 2023   90,000\n",
       "38     جيتور X70 لاكجري 2023   53,600\n",
       "39     جيتور X70 لاكجري 2023   51,900\n",
       "40     جيتور X70 لاكجري 2024   69,200\n",
       "41           GAC GS3 GS 2023   46,000\n",
       "42           GAC GS3 GS 2023   48,000\n",
       "43           GAC GS3 GS 2023   48,000\n",
       "44           GAC GS3 GS 2023   46,000\n",
       "45           GAC GS3 GS 2023   46,000\n",
       "46           GAC GS3 GS 2023   48,000\n",
       "47           GAC GS3 GS 2023   46,000"
      ]
     },
     "execution_count": 22,
     "metadata": {},
     "output_type": "execute_result"
    }
   ],
   "source": [
    "df"
   ]
  }
 ],
 "metadata": {
  "kernelspec": {
   "display_name": "base",
   "language": "python",
   "name": "python3"
  },
  "language_info": {
   "codemirror_mode": {
    "name": "ipython",
    "version": 3
   },
   "file_extension": ".py",
   "mimetype": "text/x-python",
   "name": "python",
   "nbconvert_exporter": "python",
   "pygments_lexer": "ipython3",
   "version": "3.11.5"
  }
 },
 "nbformat": 4,
 "nbformat_minor": 5
}
